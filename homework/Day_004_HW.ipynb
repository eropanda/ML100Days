{
 "cells": [
  {
   "cell_type": "markdown",
   "metadata": {},
   "source": [
    "## 練習時間\n",
    "資料的操作有很多，接下來的馬拉松中我們會介紹常被使用到的操作，參加者不妨先自行想像一下，第一次看到資料，我們一般會想知道什麼訊息？\n",
    "\n",
    "#### Ex: 如何知道資料的 row 數以及 column 數、有什麼欄位、多少欄位、如何截取部分的資料等等\n",
    "\n",
    "有了對資料的好奇之後，我們又怎麼通過程式碼來達成我們的目的呢？\n",
    "\n",
    "#### 可參考該[基礎教材](https://bookdata.readthedocs.io/en/latest/base/01_pandas.html#DataFrame-%E5%85%A5%E9%97%A8)或自行 google"
   ]
  },
  {
   "cell_type": "markdown",
   "metadata": {},
   "source": [
    "# [作業目標]\n",
    "- 熟悉更多的 Python 資料操作"
   ]
  },
  {
   "cell_type": "markdown",
   "metadata": {},
   "source": [
    "# [作業重點]\n",
    "- 列出資料的大小 (In[4], Hint : shape)\n",
    "- 列出所有欄位 (In[5], 有多種寫法)\n",
    "- 擷取部分資料 (In[6], Hint : loc 或 iloc)"
   ]
  },
  {
   "cell_type": "code",
   "execution_count": 1,
   "metadata": {},
   "outputs": [],
   "source": [
    "import os\n",
    "import numpy as np\n",
    "import pandas as pd"
   ]
  },
  {
   "cell_type": "code",
   "execution_count": null,
   "metadata": {
    "collapsed": true
   },
   "outputs": [],
   "source": [
    "# 設定 data_path\n",
    "dir_data = './data/'"
   ]
  },
  {
   "cell_type": "code",
   "execution_count": null,
   "metadata": {
    "collapsed": true
   },
   "outputs": [],
   "source": [
    "f_app = os.path.join(dir_data, 'application_train.csv')\n",
    "print('Path of read in data: %s' % (f_app))\n",
    "app_train = pd.read_csv(f_app)"
   ]
  },
  {
   "cell_type": "markdown",
   "metadata": {},
   "source": [
    "### 如果沒有想法，可以先嘗試找出剛剛例子中提到的問題的答案\n",
    "#### 資料的 row 數以及 column 數"
   ]
  },
  {
   "cell_type": "code",
   "execution_count": 3,
   "metadata": {},
   "outputs": [],
   "source": [
    "f = pd.read_csv(\"bureau.csv\")"
   ]
  },
  {
   "cell_type": "markdown",
   "metadata": {},
   "source": [
    "#### 列出所有欄位"
   ]
  },
  {
   "cell_type": "code",
   "execution_count": 4,
   "metadata": {},
   "outputs": [
    {
     "name": "stdout",
     "output_type": "stream",
     "text": [
      "         SK_ID_CURR  SK_ID_BUREAU CREDIT_ACTIVE CREDIT_CURRENCY  DAYS_CREDIT  \\\n",
      "0            215354       5714462        Closed      currency 1         -497   \n",
      "1            215354       5714463        Active      currency 1         -208   \n",
      "2            215354       5714464        Active      currency 1         -203   \n",
      "3            215354       5714465        Active      currency 1         -203   \n",
      "4            215354       5714466        Active      currency 1         -629   \n",
      "...             ...           ...           ...             ...          ...   \n",
      "1716423      259355       5057750        Active      currency 1          -44   \n",
      "1716424      100044       5057754        Closed      currency 1        -2648   \n",
      "1716425      100044       5057762        Closed      currency 1        -1809   \n",
      "1716426      246829       5057770        Closed      currency 1        -1878   \n",
      "1716427      246829       5057778        Closed      currency 1         -463   \n",
      "\n",
      "         CREDIT_DAY_OVERDUE  DAYS_CREDIT_ENDDATE  DAYS_ENDDATE_FACT  \\\n",
      "0                         0               -153.0             -153.0   \n",
      "1                         0               1075.0                NaN   \n",
      "2                         0                528.0                NaN   \n",
      "3                         0                  NaN                NaN   \n",
      "4                         0               1197.0                NaN   \n",
      "...                     ...                  ...                ...   \n",
      "1716423                   0                -30.0                NaN   \n",
      "1716424                   0              -2433.0            -2493.0   \n",
      "1716425                   0              -1628.0             -970.0   \n",
      "1716426                   0              -1513.0            -1513.0   \n",
      "1716427                   0                  NaN             -387.0   \n",
      "\n",
      "         AMT_CREDIT_MAX_OVERDUE  CNT_CREDIT_PROLONG  AMT_CREDIT_SUM  \\\n",
      "0                           NaN                   0        91323.00   \n",
      "1                           NaN                   0       225000.00   \n",
      "2                           NaN                   0       464323.50   \n",
      "3                           NaN                   0        90000.00   \n",
      "4                       77674.5                   0      2700000.00   \n",
      "...                         ...                 ...             ...   \n",
      "1716423                     0.0                   0        11250.00   \n",
      "1716424                  5476.5                   0        38130.84   \n",
      "1716425                     NaN                   0        15570.00   \n",
      "1716426                     NaN                   0        36000.00   \n",
      "1716427                     NaN                   0        22500.00   \n",
      "\n",
      "         AMT_CREDIT_SUM_DEBT  AMT_CREDIT_SUM_LIMIT  AMT_CREDIT_SUM_OVERDUE  \\\n",
      "0                        0.0                   NaN                     0.0   \n",
      "1                   171342.0                   NaN                     0.0   \n",
      "2                        NaN                   NaN                     0.0   \n",
      "3                        NaN                   NaN                     0.0   \n",
      "4                        NaN                   NaN                     0.0   \n",
      "...                      ...                   ...                     ...   \n",
      "1716423              11250.0                   0.0                     0.0   \n",
      "1716424                  0.0                   0.0                     0.0   \n",
      "1716425                  NaN                   NaN                     0.0   \n",
      "1716426                  0.0                   0.0                     0.0   \n",
      "1716427                  0.0                   NaN                     0.0   \n",
      "\n",
      "             CREDIT_TYPE  DAYS_CREDIT_UPDATE  AMT_ANNUITY  \n",
      "0        Consumer credit                -131          NaN  \n",
      "1            Credit card                 -20          NaN  \n",
      "2        Consumer credit                 -16          NaN  \n",
      "3            Credit card                 -16          NaN  \n",
      "4        Consumer credit                 -21          NaN  \n",
      "...                  ...                 ...          ...  \n",
      "1716423        Microloan                 -19          NaN  \n",
      "1716424  Consumer credit               -2493          NaN  \n",
      "1716425  Consumer credit                -967          NaN  \n",
      "1716426  Consumer credit               -1508          NaN  \n",
      "1716427        Microloan                -387          NaN  \n",
      "\n",
      "[1716428 rows x 17 columns]\n"
     ]
    }
   ],
   "source": [
    "print(f)"
   ]
  },
  {
   "cell_type": "markdown",
   "metadata": {},
   "source": [
    "#### 截取部分資料"
   ]
  },
  {
   "cell_type": "code",
   "execution_count": 6,
   "metadata": {},
   "outputs": [
    {
     "name": "stdout",
     "output_type": "stream",
     "text": [
      "    SK_ID_CURR  SK_ID_BUREAU CREDIT_ACTIVE CREDIT_CURRENCY\n",
      "0       215354       5714462        Closed      currency 1\n",
      "1       215354       5714463        Active      currency 1\n",
      "2       215354       5714464        Active      currency 1\n",
      "3       215354       5714465        Active      currency 1\n",
      "4       215354       5714466        Active      currency 1\n",
      "..         ...           ...           ...             ...\n",
      "95      119939       5714578        Closed      currency 1\n",
      "96      119939       5714579        Closed      currency 1\n",
      "97      119939       5714580        Active      currency 1\n",
      "98      119939       5714581        Closed      currency 1\n",
      "99      119939       5714582        Closed      currency 1\n",
      "\n",
      "[100 rows x 4 columns]\n"
     ]
    }
   ],
   "source": [
    "print(f.iloc[:100, [0,1,2,3]])"
   ]
  },
  {
   "cell_type": "markdown",
   "metadata": {},
   "source": [
    "#### 還有各種數之不盡的資料操作，重點還是取決於實務中遇到的狀況和你想問的問題，在馬拉松中我們也會陸續提到更多例子"
   ]
  },
  {
   "cell_type": "code",
   "execution_count": null,
   "metadata": {
    "collapsed": true
   },
   "outputs": [],
   "source": []
  }
 ],
 "metadata": {
  "kernelspec": {
   "display_name": "Python 3",
   "language": "python",
   "name": "python3"
  },
  "language_info": {
   "codemirror_mode": {
    "name": "ipython",
    "version": 3
   },
   "file_extension": ".py",
   "mimetype": "text/x-python",
   "name": "python",
   "nbconvert_exporter": "python",
   "pygments_lexer": "ipython3",
   "version": "3.8.5"
  }
 },
 "nbformat": 4,
 "nbformat_minor": 2
}
